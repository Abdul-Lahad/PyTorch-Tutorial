{
  "nbformat": 4,
  "nbformat_minor": 0,
  "metadata": {
    "colab": {
      "provenance": [],
      "authorship_tag": "ABX9TyPO9t2n7CPaQ2Cs7F15m9w/",
      "include_colab_link": true
    },
    "kernelspec": {
      "name": "python3",
      "display_name": "Python 3"
    },
    "language_info": {
      "name": "python"
    }
  },
  "cells": [
    {
      "cell_type": "markdown",
      "metadata": {
        "id": "view-in-github",
        "colab_type": "text"
      },
      "source": [
        "<a href=\"https://colab.research.google.com/github/Abdul-Lahad/PyTorch-Tutorial/blob/main/Tensor.ipynb\" target=\"_parent\"><img src=\"https://colab.research.google.com/assets/colab-badge.svg\" alt=\"Open In Colab\"/></a>"
      ]
    },
    {
      "cell_type": "markdown",
      "source": [
        "# **Tensor** **Basics**\n",
        "* By default the tensor have the data type Float32.\n",
        "* IF you want to change the data type then after specify the dimension of the tensor use property dtype.\n",
        "  * torch.double\n",
        "  * torch.float16 e.t.c\n",
        "\n",
        "\n",
        "\n",
        "\n",
        "\n",
        "\n",
        "\n",
        "\n",
        "\n"
      ],
      "metadata": {
        "id": "lmF8472wt1U3"
      }
    },
    {
      "cell_type": "code",
      "execution_count": 2,
      "metadata": {
        "id": "f4Cdfjh9qZPq"
      },
      "outputs": [],
      "source": [
        "import torch\n",
        "import numpy as np\n"
      ]
    },
    {
      "cell_type": "code",
      "source": [
        "my_tensor = torch.empty(3) # this will create the 1D tensor\n",
        "my_tensor = torch.rand(2,2) # this will create the random number 2D tensor\n",
        "my_tensor = torch.zeros(2,2) # this will create the zero 2D tensor\n",
        "my_tensor = torch.ones(2,2) # this will create the one 2D tensor\n",
        "my_tensor = torch.eye(2,2) # this will create the identity 2D tensor\n",
        "\n",
        "my_tensor_1 = torch.tensor([[5,2,3],[4,4,2]]) # this will create the custom 2D tensor\n",
        "my_tensor_2 = torch.tensor([[1,7,3],[4,7,9]]) # this will create the custom 2D tensor\n",
        "\n",
        "z = my_tensor_1 + my_tensor_2 # this will add the two tensor\n",
        "z = my_tensor_1 - my_tensor_2 # this will subtract the two tensor\n",
        "z = my_tensor_1 * my_tensor_2 # this will multiply the two tensor\n",
        "z = my_tensor_1 / my_tensor_2 # this will divide the two tensor\n",
        "\n",
        "z = torch.add(my_tensor_1,my_tensor_2) # this will add the two tensor\n",
        "z = torch.sub(my_tensor_1,my_tensor_2) # this will subtract the two tensor\n",
        "z = torch.mul(my_tensor_1,my_tensor_2) # this will multiply the two tensor\n",
        "z = torch.div(my_tensor_1,my_tensor_2) # this will divide the two tensor\n",
        "\n",
        "my_tensor_1.add_(my_tensor_2) # this will add the two tensor and stors the anser in the first tensor\n",
        "\n",
        "my_tensor_1 = torch.tensor([[5,2,3],\n",
        "                            [4,4,2]]) # this will create the custom 2D tensor\n",
        "\n",
        "my_tensor_2 = torch.tensor([[1,7,3],\n",
        "                            [4,7,9],\n",
        "                            [4,7,9]]) # this will create the custom 2D tensor\n",
        "\n",
        "\n",
        "z = torch.matmul(my_tensor_1,my_tensor_2) # this will multiply the two tensor but it is the cross product.\n"
      ],
      "metadata": {
        "colab": {
          "base_uri": "https://localhost:8080/"
        },
        "id": "IrOec2torbMg",
        "outputId": "77e919f7-38c1-463d-97cf-5230bd76e18b"
      },
      "execution_count": 14,
      "outputs": [
        {
          "output_type": "stream",
          "name": "stdout",
          "text": [
            "tensor([[25, 70, 60],\n",
            "        [28, 70, 66]])\n"
          ]
        }
      ]
    },
    {
      "cell_type": "markdown",
      "source": [
        "## Slicing and Reshaping Tensor\n",
        "* For Reshaping the **Tensor**, In pytorch have tow methods.\n",
        "    * reshap()\n",
        "    * view()"
      ],
      "metadata": {
        "id": "mKRYJYMkymen"
      }
    },
    {
      "cell_type": "code",
      "source": [
        "x = my_tensor_2[:,1] # it give all the rows and index 1 column\n",
        "x = my_tensor_2[2,2] # it will give the single element but its dataType is tensor\n",
        "x = my_tensor_2[2,2].item() # it will give the single element but its dataType is int\n",
        "\n",
        "### Reshap Tensor ###\n",
        "x = my_tensor_2.view(1,-1) # this 2D Tensor,1 denots 1 Row and -1 denots Possible column this can be done vice versa\n",
        "\n",
        "print(x.size())"
      ],
      "metadata": {
        "colab": {
          "base_uri": "https://localhost:8080/"
        },
        "id": "Ed8Rkctewmjv",
        "outputId": "13016721-3cc5-46ce-ecd4-1af1bced2352"
      },
      "execution_count": 20,
      "outputs": [
        {
          "output_type": "stream",
          "name": "stdout",
          "text": [
            "torch.Size([1, 9])\n"
          ]
        }
      ]
    },
    {
      "cell_type": "markdown",
      "source": [
        "## Conversion of Tensor and Numpy Array\n",
        "* Tensor to Numpy || Array numpy()\n",
        "* Numpy to Tensor || torch.from_numpy(array)\n"
      ],
      "metadata": {
        "id": "2Xg5AOr218xq"
      }
    },
    {
      "cell_type": "code",
      "source": [
        "my_tensor_1 = torch.ones(2,2) # this will create the custom 2D tensor\n",
        "print(my_tensor_1)\n",
        "\n",
        "a = my_tensor_1.numpy()\n",
        "print(a)\n",
        "print(type(a))\n",
        "b = torch.from_numpy(a)\n",
        "\n",
        "a += 1;\n",
        "print(a)\n",
        "\n",
        "print(b)\n",
        "print(type(b))\n"
      ],
      "metadata": {
        "colab": {
          "base_uri": "https://localhost:8080/"
        },
        "id": "eB0LKvZTzCaG",
        "outputId": "d2d10f9c-70d1-42a1-beda-cc881e50b96f"
      },
      "execution_count": 3,
      "outputs": [
        {
          "output_type": "stream",
          "name": "stdout",
          "text": [
            "tensor([[1., 1.],\n",
            "        [1., 1.]])\n",
            "[[1. 1.]\n",
            " [1. 1.]]\n",
            "<class 'numpy.ndarray'>\n",
            "[[2. 2.]\n",
            " [2. 2.]]\n",
            "tensor([[2., 2.],\n",
            "        [2., 2.]])\n",
            "<class 'torch.Tensor'>\n"
          ]
        }
      ]
    },
    {
      "cell_type": "code",
      "source": [],
      "metadata": {
        "id": "8Cv9n8tG6Q89"
      },
      "execution_count": null,
      "outputs": []
    }
  ]
}