{
  "nbformat": 4,
  "nbformat_minor": 0,
  "metadata": {
    "colab": {
      "provenance": [],
      "authorship_tag": "ABX9TyMzYIwQUMVxgTxkdLqBfNhO",
      "include_colab_link": true
    },
    "kernelspec": {
      "name": "python3",
      "display_name": "Python 3"
    },
    "language_info": {
      "name": "python"
    }
  },
  "cells": [
    {
      "cell_type": "markdown",
      "metadata": {
        "id": "view-in-github",
        "colab_type": "text"
      },
      "source": [
        "<a href=\"https://colab.research.google.com/github/Abdul-Lahad/PyTorch-Tutorial/blob/main/Activation_functions.ipynb\" target=\"_parent\"><img src=\"https://colab.research.google.com/assets/colab-badge.svg\" alt=\"Open In Colab\"/></a>"
      ]
    },
    {
      "cell_type": "markdown",
      "source": [
        "# Activation Functions\n",
        "\n",
        "## Introduction to Activation Functions\n",
        "- Activation functions are crucial for neural networks as they decide whether a neuron should be activated or not.\n",
        "- Without them, the network is equivalent to a linear regression model, incapable of handling complex tasks.\n",
        "\n",
        "## Importance of Nonlinear Transformations\n",
        "- Nonlinear activation functions between layers allow the network to learn and perform complex tasks.\n",
        "- They are applied after each linear layer.\n",
        "\n",
        "## Types of Activation Functions\n",
        "### Binary Step Function\n",
        "- Outputs `1` if the input is greater than a threshold (e.g., 0) and `0` otherwise.\n",
        "- Used for demonstration purposes but not in practical applications.\n",
        "\n",
        "### Sigmoid Function\n",
        "- Formula: \\( \\sigma(x) = \\frac{1}{1 + e^{-x}} \\)\n",
        "- Outputs probabilities between 0 and 1.\n",
        "- Commonly used in the last layer of binary classification models.\n",
        "\n",
        "### Hyperbolic Tangent (Tanh) Function\n",
        "- Formula: \\( \\tanh(x) = 2\\sigma(2x) - 1 \\)\n",
        "- Outputs values between -1 and 1.\n",
        "- Suitable for hidden layers.\n",
        "\n",
        "### Rectified Linear Unit (ReLU)\n",
        "- Outputs `0` for negative inputs and the input value for positive inputs.\n",
        "- Most popular activation function in neural networks.\n",
        "- Recommended as the default choice for hidden layers.\n",
        "\n",
        "### Leaky ReLU\n",
        "- Outputs the input value for positive inputs and a small value (e.g., \\( a \\cdot x \\), where \\( a = 0.01 \\)) for negative inputs.\n",
        "- Addresses the \"dead neuron\" problem in ReLU by allowing small gradients for negative inputs.\n",
        "\n",
        "### Softmax Function\n",
        "- Squashes inputs to probabilities (values between 0 and 1).\n",
        "- Used in the last layer of multi-class classification problems."
      ],
      "metadata": {
        "id": "vNfAHaJaLwgF"
      }
    },
    {
      "cell_type": "code",
      "execution_count": 1,
      "metadata": {
        "id": "e2yitdTLLKC5"
      },
      "outputs": [],
      "source": [
        "import torch\n",
        "import torch.nn as nn\n",
        "import torch.nn.functional as F"
      ]
    },
    {
      "cell_type": "code",
      "source": [
        "#option 1 (create nn modules)\n",
        "class NeuralNet1(nn.Module):\n",
        "    def __init__(self, inputsize, hiddensize):\n",
        "        super(NeuralNet, self).__init__()\n",
        "        self.linear1 = nn.Linear(inputsize, hiddensize)\n",
        "        self.relu = nn.ReLU()\n",
        "        self.linear2 = nn.Linear(hiddensize, 1)\n",
        "        self.sigmoid = nn.Sigmoid()\n",
        "\n",
        "    def forward(self, x):\n",
        "        out = self.linear1(x)\n",
        "        out = self.relu(out)\n",
        "        out = self.linear2(out)\n",
        "        out = self.sigmoid(out)\n",
        "        return out\n",
        "\n",
        "\n",
        "#Option 2 (use activation functions directly in forward pass)\n",
        "class NeuralNet2(nn.Module):\n",
        "    def __init__(self, inputsize, hiddensize):\n",
        "        super(NeuralNet, self).__init__()\n",
        "        self.linear1 = nn.Linear(inputsize, hiddensize)\n",
        "        self.linear2 = nn.Linear(hiddensize, 1)\n",
        "\n",
        "\n",
        "    def forward(self, x):\n",
        "        out = torch.relu(self.linear1(x))\n",
        "        out = torch.sigmoid(self.linear2(out))\n",
        "        return out"
      ],
      "metadata": {
        "id": "v0hiKllMNhfi"
      },
      "execution_count": 2,
      "outputs": []
    },
    {
      "cell_type": "code",
      "source": [],
      "metadata": {
        "id": "MwzizcVFRlje"
      },
      "execution_count": null,
      "outputs": []
    }
  ]
}