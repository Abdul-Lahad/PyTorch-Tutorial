{
  "nbformat": 4,
  "nbformat_minor": 0,
  "metadata": {
    "colab": {
      "provenance": [],
      "authorship_tag": "ABX9TyPf/Yl5tmCyk8FrQLBRfKcA",
      "include_colab_link": true
    },
    "kernelspec": {
      "name": "python3",
      "display_name": "Python 3"
    },
    "language_info": {
      "name": "python"
    }
  },
  "cells": [
    {
      "cell_type": "markdown",
      "metadata": {
        "id": "view-in-github",
        "colab_type": "text"
      },
      "source": [
        "<a href=\"https://colab.research.google.com/github/Abdul-Lahad/PyTorch-Tutorial/blob/main/Linear_Regression.ipynb\" target=\"_parent\"><img src=\"https://colab.research.google.com/assets/colab-badge.svg\" alt=\"Open In Colab\"/></a>"
      ]
    },
    {
      "cell_type": "code",
      "execution_count": 3,
      "metadata": {
        "id": "l3Mp3H1k5YoA"
      },
      "outputs": [],
      "source": [
        "import torch\n",
        "import numpy as np\n",
        "import torch.nn as nn\n",
        "from sklearn import datasets\n",
        "import matplotlib.pyplot as plt\n",
        "\n",
        "%matplotlib inline\n"
      ]
    },
    {
      "cell_type": "code",
      "source": [
        "# 0) data prepration\n",
        "\n",
        "X_numpy, Y_numpy = datasets.make_regression(n_samples=100, n_features=1, noise=20 , random_state=1)\n",
        "\n",
        "X = torch.from_numpy(X_numpy.astype(np.float32))\n",
        "Y = torch.from_numpy(Y_numpy.astype(np.float32))\n",
        "Y = Y.view(Y.shape[0],1)\n",
        "\n",
        "\n",
        "# 1) model defination\n",
        "\n",
        "class LinearRegression(nn.Module):\n",
        "    def __init__(self,input_dim,output_dim):\n",
        "        super(LinearRegression,self).__init__()\n",
        "        self.lin = nn.Linear(input_dim,output_dim)\n",
        "\n",
        "    def forward(self,x):\n",
        "      return self.lin(x)\n",
        "\n",
        "model = LinearRegression(X.shape[1],Y.shape[1])\n",
        "\n",
        "# 2) loss and opimizer\n",
        "\n",
        "learning_rate = 0.1\n",
        "critarion = nn.MSELoss()\n",
        "optimizer = torch.optim.SGD(model.parameters(),lr=learning_rate)\n",
        "\n",
        "# 3) training lopp\n",
        "\n",
        "num_epochs = 100\n",
        "for epoch in range(num_epochs):\n",
        "  y_pred = model(X)\n",
        "\n",
        "  loss = critarion(y_pred,Y)\n",
        "\n",
        "  loss.backward()\n",
        "\n",
        "  optimizer.step()\n",
        "\n",
        "  optimizer.zero_grad()\n",
        "\n",
        "  if (epoch % 10 == 0 ):\n",
        "    [w,b] = model.parameters()\n",
        "    print(f'epoch = {epoch}, w: {w[0][0]}, loss : {loss.item():.3f}')\n"
      ],
      "metadata": {
        "colab": {
          "base_uri": "https://localhost:8080/"
        },
        "id": "DmFPSmdC56Sp",
        "outputId": "ffe2e7d6-4366-4ce0-e790-1724dafc6779"
      },
      "execution_count": 17,
      "outputs": [
        {
          "output_type": "stream",
          "name": "stdout",
          "text": [
            "epoch = 0, w: 12.46479320526123, loss : 5843.396\n",
            "epoch = 10, w: 69.80998992919922, loss : 509.551\n",
            "epoch = 20, w: 80.15596771240234, loss : 338.603\n",
            "epoch = 30, w: 82.05304718017578, loss : 332.777\n",
            "epoch = 40, w: 82.40416717529297, loss : 332.575\n",
            "epoch = 50, w: 82.4695053100586, loss : 332.568\n",
            "epoch = 60, w: 82.481689453125, loss : 332.568\n",
            "epoch = 70, w: 82.48397827148438, loss : 332.568\n",
            "epoch = 80, w: 82.4843978881836, loss : 332.568\n",
            "epoch = 90, w: 82.4844741821289, loss : 332.568\n"
          ]
        }
      ]
    },
    {
      "cell_type": "code",
      "source": [
        "#plot the graph\n",
        "\n",
        "#we call our final model now, with all the data and now we want to convert this to numpy back again\n",
        "#but before we do that we want to detach our tensor so we want to prevent this operation from being tracked in our graph,the our computational graph\n",
        "#because right now this tens are here I have a typo predicted so this tensor has the required gradients argument set to true\n",
        "#but now we want this to fall to be false so this will generate a new tensor where our gradient calculation attribute is false so this is our new tensor\n",
        "#and then we just call the number function now we convert it to numpy\n",
        "\n",
        "predicted = model(X).detach().numpy()\n",
        "plt.plot(X_numpy,Y_numpy,'ro')\n",
        "plt.plot(X_numpy,predicted,'b')\n",
        "plt.show()"
      ],
      "metadata": {
        "colab": {
          "base_uri": "https://localhost:8080/",
          "height": 432
        },
        "id": "BJmNI7rT_Oyq",
        "outputId": "4775c3cd-df61-45f8-a495-3ebccca33396"
      },
      "execution_count": 18,
      "outputs": [
        {
          "output_type": "display_data",
          "data": {
            "text/plain": [
              "<Figure size 640x480 with 1 Axes>"
            ],
            "image/png": "[encoded data removed]"
          },
          "metadata": {}
        }
      ]
    },
    {
      "cell_type": "code",
      "source": [],
      "metadata": {
        "id": "XVovgFIGFbE4"
      },
      "execution_count": null,
      "outputs": []
    }
  ]
}