{
  "nbformat": 4,
  "nbformat_minor": 0,
  "metadata": {
    "colab": {
      "provenance": [],
      "authorship_tag": "ABX9TyPby+WSNg3sdVFhpkN48P0p",
      "include_colab_link": true
    },
    "kernelspec": {
      "name": "python3",
      "display_name": "Python 3"
    },
    "language_info": {
      "name": "python"
    }
  },
  "cells": [
    {
      "cell_type": "markdown",
      "metadata": {
        "id": "view-in-github",
        "colab_type": "text"
      },
      "source": [
        "<a href=\"https://colab.research.google.com/github/Abdul-Lahad/PyTorch-Tutorial/blob/main/Backpropagation.ipynb\" target=\"_parent\"><img src=\"https://colab.research.google.com/assets/colab-badge.svg\" alt=\"Open In Colab\"/></a>"
      ]
    },
    {
      "cell_type": "markdown",
      "source": [
        "#**Backpropagation**\n",
        "## 1. Chain Rule Explanation\n",
        "- The chain rule is essential for backpropagation.\n",
        "- Gradients are computed by multiplying derivatives of intermediate variables:\n",
        "- Example: dC/dX = (dC/dY) * (dY/dX)\n",
        "\n",
        "## 2. Computational Graph\n",
        "- PyTorch constructs a computational graph where each operation is represented as a node.\n",
        "- Local gradients are computed at each node, which aids in applying the chain rule.\n",
        "\n",
        "## 3. Three Steps of Backpropagation\n",
        "- Forward pass: Apply all functions to compute the loss.\n",
        "- Local gradient calculation: Compute derivatives at each node.\n",
        "- Backward pass: Use the chain rule to compute gradients of the loss w.r.t. parameters.\n"
      ],
      "metadata": {
        "id": "J41Pe0-uQ5Ht"
      }
    },
    {
      "cell_type": "code",
      "execution_count": 1,
      "metadata": {
        "id": "0fRvjNQAltFH"
      },
      "outputs": [],
      "source": [
        "import torch"
      ]
    },
    {
      "cell_type": "code",
      "source": [
        "x = torch.tensor(1.0)\n",
        "y= torch.tensor(2.0)\n",
        "\n",
        "w = torch.tensor(1.0, requires_grad=True)\n",
        "\n",
        "#forward pass and compute the loss\n",
        "\n",
        "y_hat = w * x\n",
        "loss = (y_hat - y)**2\n",
        "\n",
        "print(f'loss: {loss}')\n",
        "\n",
        "loss.backward()\n",
        "print(f'dw/dw: {w.grad}')\n",
        "\n"
      ],
      "metadata": {
        "colab": {
          "base_uri": "https://localhost:8080/"
        },
        "id": "7-afK6-j5RVP",
        "outputId": "a8772631-7ebf-4032-8492-1d91c5f43335"
      },
      "execution_count": 3,
      "outputs": [
        {
          "output_type": "stream",
          "name": "stdout",
          "text": [
            "loss: 1.0\n",
            "dw/dw: -2.0\n"
          ]
        }
      ]
    },
    {
      "cell_type": "code",
      "source": [],
      "metadata": {
        "id": "lhSggbcuQoPI"
      },
      "execution_count": null,
      "outputs": []
    }
  ]
}