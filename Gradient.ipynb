{
  "nbformat": 4,
  "nbformat_minor": 0,
  "metadata": {
    "colab": {
      "provenance": [],
      "authorship_tag": "ABX9TyOIMrTkdI781vc2MUYxKG6b",
      "include_colab_link": true
    },
    "kernelspec": {
      "name": "python3",
      "display_name": "Python 3"
    },
    "language_info": {
      "name": "python"
    }
  },
  "cells": [
    {
      "cell_type": "markdown",
      "metadata": {
        "id": "view-in-github",
        "colab_type": "text"
      },
      "source": [
        "<a href=\"https://colab.research.google.com/github/Abdul-Lahad/PyTorch-Tutorial/blob/main/Gradient.ipynb\" target=\"_parent\"><img src=\"https://colab.research.google.com/assets/colab-badge.svg\" alt=\"Open In Colab\"/></a>"
      ]
    },
    {
      "cell_type": "markdown",
      "source": [
        "## PyTorch Tutorial 03: Gradient Calculation With Autograd\n",
        "#### 1. Introduction to Autograd\n",
        "- PyTorch's `autograd` package automates gradient computation, essential for model optimization.\n",
        "- Use the `requires_grad=True` argument to enable gradient tracking for tensors.\n",
        "\n",
        "#### 2. Computational Graph and Forward Pass\n",
        "- PyTorch builds a computational graph when operations are performed on tensors with `requires_grad=True`.\n",
        "- The graph is used for gradient computation via backpropagation.\n",
        "\n",
        "#### 3. Gradient Calculation\n",
        "- Forward pass computes outputs, and backpropagation calculates gradients using gradient functions (e.g., `AddBackward`, `MulBackward`).\n",
        "- Use the `.backward()` function to compute gradients stored in the `.grad` attribute.\n",
        "\n",
        "#### 4. Scalar and Non-Scalar Outputs\n",
        "- For scalar outputs, `.backward()` works directly.\n",
        "- For non-scalar outputs, provide a gradient vector of the same size to `.backward()`.\n",
        "\n",
        "#### 5. Preventing Gradient Tracking\n",
        "- To exclude operations from gradient tracking:\n",
        "  1. Set `requires_grad=False`.\n",
        "  2. Use `.detach()` to create a tensor without gradient tracking.\n",
        "  3. Use `torch.no_grad()` within a context manager.\n",
        "\n",
        "#### 6. Gradient Accumulation\n",
        "- Gradients accumulate in the `.grad` attribute during multiple `.backward()` calls.\n",
        "- Clear gradients using `.grad.zero_()` before the next iteration.\n",
        "\n",
        "#### 7. PyTorch Optimizer Integration\n",
        "- PyTorch optimizers (e.g., `torch.optim.SGD`) manage gradient updates.\n",
        "- Use `.zero_grad()` to reset gradients before new iterations.\n",
        "\n",
        "#### 8. Key Takeaways\n",
        "- Use `requires_grad=True` for tensors requiring gradient computation.\n",
        "- Clear gradients before subsequent iterations in training loops.\n",
        "- Understand how to prevent gradient tracking when necessary.\n",
        "\n",
        "#### 9. Conclusion\n",
        "- Encouragement to explore more about `autograd` for effective model optimization.\n",
        "- Subscribe to the channel for more tutorials!\n"
      ],
      "metadata": {
        "id": "0T2vRwYufZlo"
      }
    },
    {
      "cell_type": "code",
      "execution_count": 1,
      "metadata": {
        "id": "aVARD7-vbEeO"
      },
      "outputs": [],
      "source": [
        "import torch"
      ]
    },
    {
      "cell_type": "code",
      "source": [
        "x = torch.randn(5,requires_grad=True)\n",
        "print(x)\n",
        "\n",
        "y = x + 4.3\n",
        "print(y)\n",
        "\n",
        "z = y*2\n",
        "print(z)\n",
        "\n",
        "print(f'z = {z}')\n",
        "print(f'x = {x}')\n",
        "z.backward(torch.ones_like(x))\n",
        "print(x.grad)\n"
      ],
      "metadata": {
        "colab": {
          "base_uri": "https://localhost:8080/"
        },
        "id": "qaptvuLCiIU9",
        "outputId": "025a5163-ab19-4be5-8854-b7818089c50a"
      },
      "execution_count": 18,
      "outputs": [
        {
          "output_type": "stream",
          "name": "stdout",
          "text": [
            "tensor([-0.5273,  0.3019, -1.2014,  2.4427, -0.1585], requires_grad=True)\n",
            "tensor([3.7727, 4.6019, 3.0986, 6.7427, 4.1415], grad_fn=<AddBackward0>)\n",
            "tensor([ 7.5454,  9.2039,  6.1972, 13.4855,  8.2830], grad_fn=<MulBackward0>)\n",
            "z = tensor([ 7.5454,  9.2039,  6.1972, 13.4855,  8.2830], grad_fn=<MulBackward0>)\n",
            "x = tensor([-0.5273,  0.3019, -1.2014,  2.4427, -0.1585], requires_grad=True)\n",
            "tensor([2., 2., 2., 2., 2.])\n"
          ]
        }
      ]
    },
    {
      "cell_type": "code",
      "source": [
        "weights = torch.randn(5,requires_grad=True)\n",
        "\n",
        "for epochs in range(3):\n",
        "    model_output = (weights * 6).sum()\n",
        "\n",
        "    model_output.backward()\n",
        "\n",
        "    print(weights.grad)\n",
        "\n",
        "    # after each iteration we must empty the gradient of the vactor\n",
        "    weights.grad.zero_()"
      ],
      "metadata": {
        "colab": {
          "base_uri": "https://localhost:8080/"
        },
        "id": "XJypVuxnjJ-f",
        "outputId": "630d7905-3e36-469e-f4da-d4bee387db90"
      },
      "execution_count": 21,
      "outputs": [
        {
          "output_type": "stream",
          "name": "stdout",
          "text": [
            "tensor([6., 6., 6., 6., 6.])\n",
            "tensor([6., 6., 6., 6., 6.])\n",
            "tensor([6., 6., 6., 6., 6.])\n"
          ]
        }
      ]
    },
    {
      "cell_type": "code",
      "source": [],
      "metadata": {
        "id": "ZPJ6lwv1pADU"
      },
      "execution_count": null,
      "outputs": []
    }
  ]
}