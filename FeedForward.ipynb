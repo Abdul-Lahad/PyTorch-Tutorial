{
  "nbformat": 4,
  "nbformat_minor": 0,
  "metadata": {
    "colab": {
      "provenance": [],
      "gpuType": "T4",
      "authorship_tag": "ABX9TyMSqTK+E+mc5lolSL21kTY1",
      "include_colab_link": true
    },
    "kernelspec": {
      "name": "python3",
      "display_name": "Python 3"
    },
    "language_info": {
      "name": "python"
    },
    "accelerator": "GPU"
  },
  "cells": [
    {
      "cell_type": "markdown",
      "metadata": {
        "id": "view-in-github",
        "colab_type": "text"
      },
      "source": [
        "<a href=\"https://colab.research.google.com/github/Abdul-Lahad/PyTorch-Tutorial/blob/main/FeedForward.ipynb\" target=\"_parent\"><img src=\"https://colab.research.google.com/assets/colab-badge.svg\" alt=\"Open In Colab\"/></a>"
      ]
    },
    {
      "cell_type": "code",
      "execution_count": 24,
      "metadata": {
        "id": "mDzQbWk7bsqr"
      },
      "outputs": [],
      "source": [
        "import torch\n",
        "import torch.nn as nn\n",
        "import torch.nn.functional as F\n",
        "import torch.optim as optim\n",
        "import torchvision\n",
        "import torchvision.transforms as transforms\n",
        "import matplotlib.pyplot as plt\n",
        "\n",
        "%matplotlib inline"
      ]
    },
    {
      "cell_type": "code",
      "source": [
        "# device config\n",
        "device = torch.device('cuda' if torch.cuda.is_available() else 'cpu')\n",
        "\n",
        "# hyper parameters\n",
        "input_size = 784 # 28x 28\n",
        "hidden_size = 100\n",
        "num_classes = 10\n",
        "num_epochs = 2\n",
        "learning_rate = 0.001\n",
        "batch_size = 100\n",
        "\n",
        "#MNIST dataset\n",
        "train_dataset = torchvision.datasets.MNIST(root='./data', train=True, transform=transforms.ToTensor(), download=True)\n",
        "test_dataset = torchvision.datasets.MNIST(root='./data', train=False, transform=transforms.ToTensor())\n",
        "\n",
        "train_loader = torch.utils.data.DataLoader(dataset=train_dataset, batch_size=batch_size, shuffle=True)\n",
        "test_loader = torch.utils.data.DataLoader(dataset=test_dataset, batch_size=batch_size, shuffle=False)\n",
        "\n",
        "examples = iter(train_loader)\n",
        "batch = next(examples)\n",
        "samples, labels = batch\n",
        "print(samples.shape, labels.shape)"
      ],
      "metadata": {
        "colab": {
          "base_uri": "https://localhost:8080/"
        },
        "id": "VkpqtuLdnHZi",
        "outputId": "6122d67b-578d-47a8-cc1a-bb8f432f7b2f"
      },
      "execution_count": 25,
      "outputs": [
        {
          "output_type": "stream",
          "name": "stdout",
          "text": [
            "cuda\n"
          ]
        }
      ]
    },
    {
      "cell_type": "code",
      "source": [
        "#Ploting the Image\n",
        "for i in range(6):\n",
        "    plt.subplot(2,3,i+1) # 2: Number of rows in the grid.\n",
        "                         # 3: Number of columns in the grid.\n",
        "                         # i + 1: The position of the subplot within the grid (1-indexed).\n",
        "    plt.imshow(samples[i][0],cmap='gray')\n",
        "\n",
        "plt.show()"
      ],
      "metadata": {
        "colab": {
          "base_uri": "https://localhost:8080/",
          "height": 411
        },
        "id": "_ixfK2KPqmiY",
        "outputId": "37809b1f-9b60-42ce-fae3-3412c5087c60"
      },
      "execution_count": 26,
      "outputs": [
        {
          "output_type": "display_data",
          "data": {
            "text/plain": [
              "<Figure size 640x480 with 6 Axes>"
            ],
            "image/png": "[encoded data removed]"
          },
          "metadata": {}
        }
      ]
    },
    {
      "cell_type": "code",
      "source": [
        "#Neural Network\n",
        "class NeuralNet(nn.Module):\n",
        "    def __init__(self, input_size, hidden_size, num_classes):\n",
        "        super(NeuralNet, self).__init__()\n",
        "        self.l1 = nn.Linear(input_size,hidden_size)\n",
        "        self.relu = nn.ReLU()\n",
        "        self.l2 = nn.Linear(hidden_size, num_classes)\n",
        "\n",
        "    def forward(self,x):\n",
        "        out = self.l1(x)\n",
        "        out = self.relu(out)\n",
        "        out = self.l2(out)\n",
        "        return out\n",
        "\n",
        "model = NeuralNet(input_size, hidden_size, num_classes)\n",
        "model.to(device)"
      ],
      "metadata": {
        "colab": {
          "base_uri": "https://localhost:8080/"
        },
        "id": "AgxZR-ruupyT",
        "outputId": "d995454f-ad95-48cc-d4bc-96ea6637c848"
      },
      "execution_count": 27,
      "outputs": [
        {
          "output_type": "execute_result",
          "data": {
            "text/plain": [
              "NeuralNet(\n",
              "  (l1): Linear(in_features=784, out_features=100, bias=True)\n",
              "  (relu): ReLU()\n",
              "  (l2): Linear(in_features=100, out_features=10, bias=True)\n",
              ")"
            ]
          },
          "metadata": {},
          "execution_count": 27
        }
      ]
    },
    {
      "cell_type": "code",
      "source": [
        "#loss and optimizer\n",
        "criterion = nn.CrossEntropyLoss()\n",
        "optimizer = optim.Adam(model.parameters(), lr=learning_rate)"
      ],
      "metadata": {
        "id": "aG0Z4FhNxWgx"
      },
      "execution_count": 28,
      "outputs": []
    },
    {
      "cell_type": "code",
      "source": [
        "#training loop\n",
        "n_total_steps = len(train_loader)\n",
        "print(\"training start\")\n",
        "for epoch in range(num_epochs):\n",
        "    for i, (images, labels) in enumerate(train_loader):\n",
        "        # 100, 1, 28,28\n",
        "        # 100,784\n",
        "        images = images.reshape(-1,28*28).to(device)\n",
        "        labels = labels.to(device)\n",
        "\n",
        "        #forward\n",
        "        outputs = model(images)\n",
        "\n",
        "        loss = criterion(outputs, labels)\n",
        "\n",
        "        #backwards\n",
        "        optimizer.zero_grad()\n",
        "        loss.backward()\n",
        "        optimizer.step()\n",
        "\n",
        "        if (i+1) % 100 == 0:\n",
        "          print(f'epoch {epoch+1}/{num_epochs}, step {i+1}/{n_total_steps}, loss = {loss.item():.4f}')\n",
        "\n",
        "print(\"training done\")"
      ],
      "metadata": {
        "colab": {
          "base_uri": "https://localhost:8080/"
        },
        "id": "3iyaXn5O6B5E",
        "outputId": "d5a2e4ec-ceab-4853-ba1b-2bdff2281a61"
      },
      "execution_count": 33,
      "outputs": [
        {
          "output_type": "stream",
          "name": "stdout",
          "text": [
            "training start\n",
            "epoch 1/2, step 100/600, loss = 0.0419\n",
            "epoch 1/2, step 200/600, loss = 0.1297\n",
            "epoch 1/2, step 300/600, loss = 0.0769\n",
            "epoch 1/2, step 400/600, loss = 0.0309\n",
            "epoch 1/2, step 500/600, loss = 0.0553\n",
            "epoch 1/2, step 600/600, loss = 0.0689\n",
            "epoch 2/2, step 100/600, loss = 0.0473\n",
            "epoch 2/2, step 200/600, loss = 0.1377\n",
            "epoch 2/2, step 300/600, loss = 0.0865\n",
            "epoch 2/2, step 400/600, loss = 0.0783\n",
            "epoch 2/2, step 500/600, loss = 0.0649\n",
            "epoch 2/2, step 600/600, loss = 0.0268\n",
            "training done\n"
          ]
        }
      ]
    },
    {
      "cell_type": "code",
      "source": [
        "#test\n",
        "with torch.no_grad():\n",
        "  n_correct = 0\n",
        "  n_samples = 0\n",
        "  for images, labels in test_loader:\n",
        "    images = images.reshape(-1, 28*28).to(device)\n",
        "    labels = labels.to(device)\n",
        "    outputs = model(images)\n",
        "\n",
        "    #value, index\n",
        "    _, predictions = torch.max(outputs, 1)\n",
        "    n_samples += labels.shape[0] # labels row is 1\n",
        "    n_correct += (predictions == labels).sum().item()\n",
        "\n",
        "  acc = 100.0 * n_correct / n_samples\n",
        "  print(f'accuracy = {acc}')"
      ],
      "metadata": {
        "colab": {
          "base_uri": "https://localhost:8080/"
        },
        "id": "hW17dNNX76Ub",
        "outputId": "def44bb8-eb0d-4ed6-df9f-fe90256d0c3c"
      },
      "execution_count": 34,
      "outputs": [
        {
          "output_type": "stream",
          "name": "stdout",
          "text": [
            "accuracy = 97.45\n"
          ]
        }
      ]
    },
    {
      "cell_type": "code",
      "source": [
        "# Test with the single example\n",
        "\n",
        "test_examples = iter(test_loader)\n",
        "test_batch = next(examples)\n",
        "test_samples, test_labels = batch\n",
        "\n",
        "test1_sample = test_samples[50].reshape(-1,28*28).to(device)\n",
        "test1_label = test_labels[50].to(device)\n",
        "test1_output = model(test1_sample)\n",
        "print(test1_output)\n",
        "\n",
        "_, test1_prediction = torch.max(test1_output, 1)\n",
        "print(\"Predidted number : \", test1_prediction.item())\n",
        "\n",
        "#Ploting the Image\n",
        "plt.subplot(2,3,1)\n",
        "plt.imshow(test_samples[50][0],cmap='gray')\n",
        "plt.show()\n"
      ],
      "metadata": {
        "colab": {
          "base_uri": "https://localhost:8080/",
          "height": 261
        },
        "id": "KXFUW5vKHS0w",
        "outputId": "122e1eb5-d6b4-43c3-f551-fc55bd8c1bec"
      },
      "execution_count": 52,
      "outputs": [
        {
          "output_type": "stream",
          "name": "stdout",
          "text": [
            "tensor([[ 0.0312, -4.6893, -1.3456, -3.2608, -4.4847,  1.0186,  7.8893, -7.2726,\n",
            "         -4.5799, -8.8736]], device='cuda:0', grad_fn=<AddmmBackward0>)\n",
            "Predidted number :  6\n"
          ]
        },
        {
          "output_type": "display_data",
          "data": {
            "text/plain": [
              "<Figure size 640x480 with 1 Axes>"
            ],
            "image/png": "[encoded data removed]"
          },
          "metadata": {}
        }
      ]
    },
    {
      "cell_type": "code",
      "source": [],
      "metadata": {
        "id": "z8rUWL06OBOn"
      },
      "execution_count": null,
      "outputs": []
    }
  ]
}