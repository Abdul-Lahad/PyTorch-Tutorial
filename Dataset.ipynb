{
  "nbformat": 4,
  "nbformat_minor": 0,
  "metadata": {
    "colab": {
      "provenance": [],
      "authorship_tag": "ABX9TyNjFmbJ3CLKNzIv5/AFCRTm",
      "include_colab_link": true
    },
    "kernelspec": {
      "name": "python3",
      "display_name": "Python 3"
    },
    "language_info": {
      "name": "python"
    }
  },
  "cells": [
    {
      "cell_type": "markdown",
      "metadata": {
        "id": "view-in-github",
        "colab_type": "text"
      },
      "source": [
        "<a href=\"https://colab.research.google.com/github/Abdul-Lahad/PyTorch-Tutorial/blob/main/Dataset.ipynb\" target=\"_parent\"><img src=\"https://colab.research.google.com/assets/colab-badge.svg\" alt=\"Open In Colab\"/></a>"
      ]
    },
    {
      "cell_type": "markdown",
      "source": [
        "# Dataset and DataLoader in PyTorch\n",
        "\n",
        "In this notebook, we will explore the `Dataset` and `DataLoader` classes in PyTorch. These are essential tools for efficiently handling and processing data during model training and evaluation.\n"
      ],
      "metadata": {
        "id": "kSRz8Gg8WE1r"
      }
    },
    {
      "cell_type": "code",
      "execution_count": 1,
      "metadata": {
        "id": "Uo9re4Z-WAsf"
      },
      "outputs": [],
      "source": [
        "import torch\n",
        "import torchvision\n",
        "from torch.utils.data import Dataset, DataLoader\n",
        "import numpy as np\n",
        "import math\n"
      ]
    },
    {
      "cell_type": "markdown",
      "source": [
        "## 1. Dataset\n",
        "\n",
        "The `Dataset` class is an abstract class that represents your data. You can create a custom dataset by subclassing `torch.utils.data.Dataset` and implementing the following methods:\n",
        "\n",
        "- `__len__`: Returns the size of the dataset.\n",
        "- `__getitem__`: Retrieves a data sample and its corresponding label (for supervised learning tasks) based on an index.\n"
      ],
      "metadata": {
        "id": "MfG04cdinjxL"
      }
    },
    {
      "cell_type": "code",
      "source": [
        "class WineDataset(Dataset):\n",
        "  def __init__(self):\n",
        "      # Data Loading\n",
        "      xy = np.loadtxt('https://raw.githubusercontent.com/patrickloeber/pytorchTutorial/master/data/wine/wine.csv',\n",
        "                      delimiter=',',\n",
        "                      dtype=np.float32,\n",
        "                      skiprows=1)\n",
        "      self.x = torch.from_numpy(xy[:,1:])\n",
        "      self.y = torch.from_numpy(xy[:,[0]]) #n_samples, 1\n",
        "      self.n_samples = xy.shape[0]\n",
        "\n",
        "  def __getitem__(self, index):\n",
        "      return self.x[index],self.y[index]\n",
        "\n",
        "  def __len__(self):\n",
        "      return self.n_samples\n",
        ""
      ],
      "metadata": {
        "id": "YQ5qh3rAcwh1"
      },
      "execution_count": 12,
      "outputs": []
    },
    {
      "cell_type": "code",
      "source": [
        "dataset = WineDataset()\n",
        "first_data = dataset[100]\n",
        "features, labels = first_data\n",
        "print(f'Features: {features}, Labels: {labels}')"
      ],
      "metadata": {
        "colab": {
          "base_uri": "https://localhost:8080/"
        },
        "id": "OCt-oFaXg-qG",
        "outputId": "ea4968c4-2938-4c76-d8d6-0a966860cb8b"
      },
      "execution_count": 16,
      "outputs": [
        {
          "output_type": "stream",
          "name": "stdout",
          "text": [
            "Features: tensor([1.2080e+01, 2.0800e+00, 1.7000e+00, 1.7500e+01, 9.7000e+01, 2.2300e+00,\n",
            "        2.1700e+00, 2.6000e-01, 1.4000e+00, 3.3000e+00, 1.2700e+00, 2.9600e+00,\n",
            "        7.1000e+02]), Labels: tensor([2.])\n"
          ]
        }
      ]
    },
    {
      "cell_type": "markdown",
      "source": [
        "## 2. DataLoader\n",
        "\n",
        "The `DataLoader` class provides an efficient way to load data in batches and optionally shuffle and parallelize the data loading process. It wraps around a `Dataset` object.\n",
        "\n",
        "### Key Parameters:\n",
        "- **`dataset`**: The dataset to load data from.\n",
        "- **`batch_size`**: Number of samples per batch (default: 1).\n",
        "- **`shuffle`**: Whether to shuffle the data after each epoch (default: `False`).\n",
        "- **`num_workers`**: Number of subprocesses to use for data loading (default: `0`).\n",
        "- **`drop_last`**: Whether to drop the last incomplete batch (default: `False`).\n"
      ],
      "metadata": {
        "id": "eLxkRTaqjY8n"
      }
    },
    {
      "cell_type": "code",
      "source": [
        "dataloader = DataLoader(dataset=dataset, batch_size=4, shuffle=True, num_workers=2)\n",
        "dataiter = iter(dataloader)\n",
        "data = next(dataiter)\n",
        "features, labels = data\n",
        "print(f'Features: {features}, Labels: {labels}')\n"
      ],
      "metadata": {
        "colab": {
          "base_uri": "https://localhost:8080/"
        },
        "id": "ZRu9LSm0hVDj",
        "outputId": "b9b0db29-9d7d-4410-adc3-6dce02952085"
      },
      "execution_count": 21,
      "outputs": [
        {
          "output_type": "stream",
          "name": "stdout",
          "text": [
            "Features: tensor([[1.2070e+01, 2.1600e+00, 2.1700e+00, 2.1000e+01, 8.5000e+01, 2.6000e+00,\n",
            "         2.6500e+00, 3.7000e-01, 1.3500e+00, 2.7600e+00, 8.6000e-01, 3.2800e+00,\n",
            "         3.7800e+02],\n",
            "        [1.4370e+01, 1.9500e+00, 2.5000e+00, 1.6800e+01, 1.1300e+02, 3.8500e+00,\n",
            "         3.4900e+00, 2.4000e-01, 2.1800e+00, 7.8000e+00, 8.6000e-01, 3.4500e+00,\n",
            "         1.4800e+03],\n",
            "        [1.1620e+01, 1.9900e+00, 2.2800e+00, 1.8000e+01, 9.8000e+01, 3.0200e+00,\n",
            "         2.2600e+00, 1.7000e-01, 1.3500e+00, 3.2500e+00, 1.1600e+00, 2.9600e+00,\n",
            "         3.4500e+02],\n",
            "        [1.3160e+01, 3.5700e+00, 2.1500e+00, 2.1000e+01, 1.0200e+02, 1.5000e+00,\n",
            "         5.5000e-01, 4.3000e-01, 1.3000e+00, 4.0000e+00, 6.0000e-01, 1.6800e+00,\n",
            "         8.3000e+02]]), Labels: tensor([[2.],\n",
            "        [1.],\n",
            "        [2.],\n",
            "        [3.]])\n"
          ]
        }
      ]
    },
    {
      "cell_type": "code",
      "source": [
        "#training loop\n",
        "num_epochs =2\n",
        "total_samples = len(dataset)\n",
        "n_iterations = math.ceil(total_samples/4)\n",
        "print(total_samples, n_iterations)\n",
        "\n",
        "for epoch in range(num_epochs):\n",
        "\n",
        "  for i, (inputs, labels) in enumerate(dataloader):\n",
        "    #forward backward, update"
      ],
      "metadata": {
        "colab": {
          "base_uri": "https://localhost:8080/"
        },
        "id": "eyB8fkwbkSNd",
        "outputId": "a0fbe1ab-3c41-4706-c673-4e8832a0b7cc"
      },
      "execution_count": 24,
      "outputs": [
        {
          "output_type": "stream",
          "name": "stdout",
          "text": [
            "178 45\n"
          ]
        }
      ]
    }
  ]
}