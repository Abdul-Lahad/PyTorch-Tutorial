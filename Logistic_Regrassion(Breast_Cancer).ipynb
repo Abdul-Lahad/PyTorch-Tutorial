{
  "nbformat": 4,
  "nbformat_minor": 0,
  "metadata": {
    "colab": {
      "provenance": [],
      "authorship_tag": "ABX9TyNNYgr7rbDJ72oImZV69279",
      "include_colab_link": true
    },
    "kernelspec": {
      "name": "python3",
      "display_name": "Python 3"
    },
    "language_info": {
      "name": "python"
    }
  },
  "cells": [
    {
      "cell_type": "markdown",
      "metadata": {
        "id": "view-in-github",
        "colab_type": "text"
      },
      "source": [
        "<a href=\"https://colab.research.google.com/github/Abdul-Lahad/PyTorch-Tutorial/blob/main/Logistic_Regrassion(Breast_Cancer).ipynb\" target=\"_parent\"><img src=\"https://colab.research.google.com/assets/colab-badge.svg\" alt=\"Open In Colab\"/></a>"
      ]
    },
    {
      "cell_type": "markdown",
      "source": [
        "#**Classificatin Model**"
      ],
      "metadata": {
        "id": "SFPLHYtQJHvU"
      }
    },
    {
      "cell_type": "code",
      "source": [
        "import numpy as np\n",
        "import torch\n",
        "import torch.nn as nn\n",
        "from sklearn import datasets\n",
        "from sklearn.preprocessing import StandardScaler\n",
        "from sklearn.model_selection import train_test_split\n",
        "import matplotlib.pyplot as plt\n",
        "import torch.optim as optim\n",
        "\n",
        "%matplotlib inline\n"
      ],
      "metadata": {
        "id": "8Ta22cw0JAnf"
      },
      "execution_count": 6,
      "outputs": []
    },
    {
      "cell_type": "code",
      "source": [
        "# 0 > prepare the data\n",
        "\n",
        "bc = datasets.load_breast_cancer()\n",
        "\n",
        "X, Y = bc.data, bc.target\n",
        "n_samples, n_features = X.shape\n",
        "\n",
        "X_train, X_test, y_train, y_test = train_test_split(X, Y, test_size=0.2, random_state=41)\n",
        "\n",
        "#feature scaling\n",
        "sc = StandardScaler()\n",
        "X_train = sc.fit_transform(X_train)\n",
        "X_test = sc.transform(X_test)\n",
        "\n",
        "X_train = torch.from_numpy(X_train.astype(np.float32))\n",
        "X_test = torch.from_numpy(X_test.astype(np.float32))\n",
        "y_train = torch.from_numpy(y_train.astype(np.float32))\n",
        "y_test = torch.from_numpy(y_test.astype(np.float32))\n",
        "\n",
        "y_train = y_train.view(y_train.shape[0],1)\n",
        "y_test = y_test.view(y_test.shape[0],1)\n",
        "\n",
        "# 1 > define the model\n",
        "\n",
        "class LogisticRegression(nn.Module):\n",
        "  def __init__(self,n_input_features):\n",
        "    super(LogisticRegression,self).__init__()\n",
        "    self.linear = nn.Linear(n_input_features,1)\n",
        "\n",
        "  def forward(self,x):\n",
        "    y_predicted = torch.sigmoid(self.linear(x))\n",
        "    return y_predicted\n",
        "\n",
        "\n",
        "\n",
        "\n",
        "model = LogisticRegression(n_features)\n",
        "\n",
        "\n",
        "# 2 > loss and opimization\n",
        "\n",
        "learning_rate = 0.01\n",
        "criterion = nn.BCELoss()\n",
        "optimizer = optim.Adam(model.parameters(),lr=learning_rate)\n",
        "\n",
        "# 3 > training loop\n",
        "\n",
        "num_epochs = 100\n",
        "\n",
        "for epoch in range(num_epochs):\n",
        "\n",
        "  y_pred = model(X_train)\n",
        "\n",
        "  loss = criterion(y_pred,y_train)\n",
        "\n",
        "  loss.backward()\n",
        "\n",
        "  optimizer.step()\n",
        "\n",
        "  optimizer.zero_grad()\n",
        "\n",
        "  if (epoch + 1) % 10 == 0:\n",
        "    print(f'epoch: {epoch+1}, loss = {loss.item():.4f}')\n",
        "\n",
        "\n"
      ],
      "metadata": {
        "colab": {
          "base_uri": "https://localhost:8080/"
        },
        "id": "qHmrU0sqJuZh",
        "outputId": "938ccea1-ba1d-4c41-b1ba-6e0fc75f57a6"
      },
      "execution_count": 16,
      "outputs": [
        {
          "output_type": "stream",
          "name": "stdout",
          "text": [
            "epoch: 10, loss = 0.3694\n",
            "epoch: 20, loss = 0.2249\n",
            "epoch: 30, loss = 0.1716\n",
            "epoch: 40, loss = 0.1461\n",
            "epoch: 50, loss = 0.1313\n",
            "epoch: 60, loss = 0.1215\n",
            "epoch: 70, loss = 0.1144\n",
            "epoch: 80, loss = 0.1089\n",
            "epoch: 90, loss = 0.1044\n",
            "epoch: 100, loss = 0.1006\n"
          ]
        }
      ]
    },
    {
      "cell_type": "code",
      "source": [
        "#plot\n",
        "with torch.no_grad():\n",
        "  predicted_y = model(X_test)\n",
        "  predicted_y = predicted_y.round()\n",
        "  accuracy = predicted_y.eq(y_test).sum() / float(y_test.shape[0])\n",
        "  print(f'accuracy = {accuracy:.4f}')"
      ],
      "metadata": {
        "colab": {
          "base_uri": "https://localhost:8080/"
        },
        "id": "D8-nifYuRu3N",
        "outputId": "3480268d-c2fe-40c3-b046-db3632fcaa49"
      },
      "execution_count": 17,
      "outputs": [
        {
          "output_type": "stream",
          "name": "stdout",
          "text": [
            "accuracy = 0.9825\n"
          ]
        }
      ]
    },
    {
      "cell_type": "code",
      "source": [],
      "metadata": {
        "id": "WBq4khPWSpsD"
      },
      "execution_count": null,
      "outputs": []
    }
  ]
}