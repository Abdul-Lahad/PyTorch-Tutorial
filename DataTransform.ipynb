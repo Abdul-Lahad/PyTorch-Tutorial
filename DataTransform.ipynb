{
  "nbformat": 4,
  "nbformat_minor": 0,
  "metadata": {
    "colab": {
      "provenance": [],
      "authorship_tag": "ABX9TyPW/mLM/Ji0IDrmnbrZnLE7",
      "include_colab_link": true
    },
    "kernelspec": {
      "name": "python3",
      "display_name": "Python 3"
    },
    "language_info": {
      "name": "python"
    }
  },
  "cells": [
    {
      "cell_type": "markdown",
      "metadata": {
        "id": "view-in-github",
        "colab_type": "text"
      },
      "source": [
        "<a href=\"https://colab.research.google.com/github/Abdul-Lahad/PyTorch-Tutorial/blob/main/DataTransform.ipynb\" target=\"_parent\"><img src=\"https://colab.research.google.com/assets/colab-badge.svg\" alt=\"Open In Colab\"/></a>"
      ]
    },
    {
      "cell_type": "markdown",
      "source": [
        "# PyTorch Tutorial: Dataset Transforms\n",
        "\n",
        "In this tutorial, we explore how to use and create transforms for datasets in PyTorch. We cover built-in transforms, custom transform classes, and combining multiple transforms.\n",
        "\n",
        "## Introduction\n",
        "We begin by introducing the concept of dataset transforms in PyTorch. The main goal is to manipulate or modify data before feeding it into a model. This is commonly used in deep learning tasks such as image processing or custom data manipulations.\n",
        "\n",
        "## Built-in Transforms\n",
        "PyTorch offers several built-in transforms that can be applied to datasets. For example:\n",
        "- **Image transforms**: center crop, grayscale conversion, padding, etc.\n",
        "- **Tensor transforms**: normalization, linear transformations.\n",
        "- **Conversion transforms**: converting images (e.g., from PIL) to tensors.\n",
        "  \n",
        "You can explore all available transforms in the official PyTorch documentation.\n",
        "\n",
        "## Custom Transforms\n",
        "While PyTorch provides many useful built-in transforms, sometimes we need custom transforms. These are often implemented using Python’s lambda functions or by writing a custom transform class.\n",
        "\n",
        "## Extending Custom Datasets to Support Transforms\n",
        "The tutorial demonstrates how to extend a custom dataset (in this case, a wine dataset) to support transforms. We modify the dataset to accept an optional `transform` argument in its `__init__` method. If a transform is provided, it is applied to the sample in the `__getitem__` method before returning it.\n",
        "\n",
        "### Example Code: Adding Transform Support to a Custom Dataset\n",
        "```python\n",
        "class WineDataset(torch.utils.data.Dataset):\n",
        "    def __init__(self, data, transform=None):\n",
        "        self.data = data\n",
        "        self.transform = transform\n",
        "    \n",
        "    def __getitem__(self, index):\n",
        "        sample = self.data[index]\n",
        "        \n",
        "        if self.transform:\n",
        "            sample = self.transform(sample)\n",
        "        \n",
        "        return sample\n",
        "\n",
        "\n"
      ],
      "metadata": {
        "id": "Vw8uvOtVrSci"
      }
    },
    {
      "cell_type": "code",
      "source": [
        "import torch\n",
        "import torchvision\n",
        "from torch.utils.data import Dataset\n",
        "import numpy as np"
      ],
      "metadata": {
        "id": "GGfLN0NGuKHs"
      },
      "execution_count": null,
      "outputs": []
    },
    {
      "cell_type": "code",
      "execution_count": null,
      "metadata": {
        "id": "5Sex1ZGLqvIb"
      },
      "outputs": [],
      "source": [
        "class WineDataset(Dataset):\n",
        "  def __init__(self, transform=None):\n",
        "      # Data Loading\n",
        "      xy = np.loadtxt('https://raw.githubusercontent.com/patrickloeber/pytorchTutorial/master/data/wine/wine.csv',\n",
        "                      delimiter=',',\n",
        "                      dtype=np.float32,\n",
        "                      skiprows=1)\n",
        "      self.x = xy[:,1:]\n",
        "      self.y = xy[:,[0]] #n_samples, 1\n",
        "      self.n_samples = xy.shape[0]\n",
        "      self.transform = transform\n",
        "\n",
        "  def __getitem__(self, index):\n",
        "      sample = self.x[index], self.y[index]\n",
        "      if self.transform:\n",
        "          sample = self.transform(sample)\n",
        "      return sample\n",
        "\n",
        "  def __len__(self):\n",
        "      return self.n_samples\n"
      ]
    },
    {
      "cell_type": "markdown",
      "source": [
        "## Created to Transform class\n",
        "- The class will transform the ***numpy array*** to ***Tensor***"
      ],
      "metadata": {
        "id": "unMDezxkxFUq"
      }
    },
    {
      "cell_type": "code",
      "source": [
        "class ToTensor:\n",
        "  def __call__(self, sample):\n",
        "    inputs, targets = sample\n",
        "    return torch.from_numpy(inputs), torch.from_numpy(targets)"
      ],
      "metadata": {
        "id": "ssRxuXOltr4U"
      },
      "execution_count": null,
      "outputs": []
    },
    {
      "cell_type": "code",
      "source": [
        "dataset = WineDataset(transform=ToTensor())\n",
        "features, labels = dataset[0]\n",
        "print(f'features dtype: {features.dtype}')\n",
        "print(f'labels dtype: {labels.dtype}')\n",
        "print(f'features: {features}')\n",
        "print(f'labels: {labels}')"
      ],
      "metadata": {
        "colab": {
          "base_uri": "https://localhost:8080/"
        },
        "id": "pr2U4-EvxNWV",
        "outputId": "8d7b6206-32f0-4182-a684-9f9b0a56659f"
      },
      "execution_count": null,
      "outputs": [
        {
          "output_type": "stream",
          "name": "stdout",
          "text": [
            "features dtype: torch.float32\n",
            "labels dtype: torch.float32\n",
            "features: tensor([1.4230e+01, 1.7100e+00, 2.4300e+00, 1.5600e+01, 1.2700e+02, 2.8000e+00,\n",
            "        3.0600e+00, 2.8000e-01, 2.2900e+00, 5.6400e+00, 1.0400e+00, 3.9200e+00,\n",
            "        1.0650e+03])\n",
            "labels: tensor([1.])\n"
          ]
        }
      ]
    },
    {
      "cell_type": "code",
      "source": [
        "class AddOne:\n",
        "  def __call__(self, sample):\n",
        "    inputs, targets = sample\n",
        "    inputs += 1\n",
        "    return inputs, targets"
      ],
      "metadata": {
        "id": "NHVaFwpkx3pR"
      },
      "execution_count": null,
      "outputs": []
    },
    {
      "cell_type": "code",
      "source": [
        "composed = torchvision.transforms.Compose([ToTensor(),AddOne()])\n",
        "dataset = WineDataset(transform=composed)\n",
        "features, labels = dataset[0]\n",
        "print(f'features dtype: {features.dtype}')\n",
        "print(f'labels dtype: {labels.dtype}')\n",
        "print(f'features: {features}')\n",
        "print(f'labels: {labels}')"
      ],
      "metadata": {
        "colab": {
          "base_uri": "https://localhost:8080/"
        },
        "id": "SjH8Tal00VU9",
        "outputId": "50462d68-a7d6-4465-dbda-ead2661d1d57"
      },
      "execution_count": null,
      "outputs": [
        {
          "output_type": "stream",
          "name": "stdout",
          "text": [
            "features dtype: torch.float32\n",
            "labels dtype: torch.float32\n",
            "features: tensor([  15.2300,    2.7100,    3.4300,   16.6000,  128.0000,    3.8000,\n",
            "           4.0600,    1.2800,    3.2900,    6.6400,    2.0400,    4.9200,\n",
            "        1066.0000])\n",
            "labels: tensor([1.])\n"
          ]
        }
      ]
    },
    {
      "cell_type": "code",
      "source": [],
      "metadata": {
        "id": "ehnlnj0z09BH"
      },
      "execution_count": null,
      "outputs": []
    }
  ]
}